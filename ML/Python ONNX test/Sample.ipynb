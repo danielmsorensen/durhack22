{
 "cells": [
  {
   "cell_type": "code",
   "execution_count": 1,
   "metadata": {
    "collapsed": true,
    "pycharm": {
     "name": "#%%\n"
    }
   },
   "outputs": [],
   "source": [
    "from transformers import BertConfig, BertModel, BertTokenizer\n",
    "\n",
    "# Initializing a BERT bert-base-uncased style configuration\n",
    "\n",
    "configuration = BertConfig()\n",
    "\n",
    "# Initializing a model (with random weights) from the bert-base-uncased style configuration\n",
    "\n",
    "model = BertModel(configuration)\n",
    "\n",
    "# Accessing the model configuration\n",
    "\n",
    "configuration = model.config"
   ]
  },
  {
   "cell_type": "code",
   "execution_count": 2,
   "outputs": [],
   "source": [
    "tokenizer = BertTokenizer.from_pretrained('bert-base-uncased')"
   ],
   "metadata": {
    "collapsed": false,
    "pycharm": {
     "name": "#%%\n"
    }
   }
  },
  {
   "cell_type": "code",
   "execution_count": 3,
   "outputs": [
    {
     "data": {
      "text/plain": "tensor([[  101,  7592,  1010,  2026,  3899,  2003, 10140,   102]])"
     },
     "execution_count": 3,
     "metadata": {},
     "output_type": "execute_result"
    }
   ],
   "source": [
    "input_ids = tokenizer(\"Hello, my dog is cute\", return_tensors=\"pt\")[\"input_ids\"]\n",
    "input_ids"
   ],
   "metadata": {
    "collapsed": false,
    "pycharm": {
     "name": "#%%\n"
    }
   }
  },
  {
   "cell_type": "code",
   "execution_count": 20,
   "outputs": [],
   "source": [
    ">>> outputs = model(input_ids)[1]"
   ],
   "metadata": {
    "collapsed": false,
    "pycharm": {
     "name": "#%%\n"
    }
   }
  },
  {
   "cell_type": "code",
   "execution_count": 5,
   "outputs": [],
   "source": [
    "import onnx\n",
    "onnx_model = onnx.load(\"C:\\\\Users\\\\enego\\\\OneDrive\\\\Documents\\\\GitHub\\\\durhack22\\\\ML\\\\trainedNet.onnx\")\n",
    "onnx.checker.check_model(onnx_model)"
   ],
   "metadata": {
    "collapsed": false,
    "pycharm": {
     "name": "#%%\n"
    }
   }
  },
  {
   "cell_type": "code",
   "execution_count": 22,
   "outputs": [
    {
     "ename": "TypeError",
     "evalue": "list indices must be integers or slices, not str",
     "output_type": "error",
     "traceback": [
      "\u001B[1;31m---------------------------------------------------------------------------\u001B[0m",
      "\u001B[1;31mTypeError\u001B[0m                                 Traceback (most recent call last)",
      "Input \u001B[1;32mIn [22]\u001B[0m, in \u001B[0;36m<cell line: 5>\u001B[1;34m()\u001B[0m\n\u001B[0;32m      3\u001B[0m ort_sess \u001B[38;5;241m=\u001B[39m ort\u001B[38;5;241m.\u001B[39mInferenceSession(\u001B[38;5;124m\"\u001B[39m\u001B[38;5;124mC:\u001B[39m\u001B[38;5;130;01m\\\\\u001B[39;00m\u001B[38;5;124mUsers\u001B[39m\u001B[38;5;130;01m\\\\\u001B[39;00m\u001B[38;5;124menego\u001B[39m\u001B[38;5;130;01m\\\\\u001B[39;00m\u001B[38;5;124mOneDrive\u001B[39m\u001B[38;5;130;01m\\\\\u001B[39;00m\u001B[38;5;124mDocuments\u001B[39m\u001B[38;5;130;01m\\\\\u001B[39;00m\u001B[38;5;124mGitHub\u001B[39m\u001B[38;5;130;01m\\\\\u001B[39;00m\u001B[38;5;124mdurhack22\u001B[39m\u001B[38;5;130;01m\\\\\u001B[39;00m\u001B[38;5;124mML\u001B[39m\u001B[38;5;130;01m\\\\\u001B[39;00m\u001B[38;5;124mtrainedNet.onnx\u001B[39m\u001B[38;5;124m\"\u001B[39m, providers\u001B[38;5;241m=\u001B[39m[\u001B[38;5;124m'\u001B[39m\u001B[38;5;124mCPUExecutionProvider\u001B[39m\u001B[38;5;124m'\u001B[39m])\n\u001B[0;32m      4\u001B[0m finalOutput \u001B[38;5;241m=\u001B[39m ort_sess\u001B[38;5;241m.\u001B[39mrun(\u001B[38;5;28;01mNone\u001B[39;00m, {\u001B[38;5;124m'\u001B[39m\u001B[38;5;124mInput\u001B[39m\u001B[38;5;124m'\u001B[39m: np\u001B[38;5;241m.\u001B[39marray([outputs\u001B[38;5;241m.\u001B[39mdetach()\u001B[38;5;241m.\u001B[39mnumpy()])})\n\u001B[1;32m----> 5\u001B[0m predicted \u001B[38;5;241m=\u001B[39m \u001B[43mfinalOutput\u001B[49m\u001B[43m[\u001B[49m\u001B[38;5;124;43m\"\u001B[39;49m\u001B[38;5;124;43mpredicted\u001B[39;49m\u001B[38;5;124;43m\"\u001B[39;49m\u001B[43m]\u001B[49m\n\u001B[0;32m      6\u001B[0m \u001B[38;5;66;03m# Print Result\u001B[39;00m\n\u001B[0;32m      7\u001B[0m \u001B[38;5;28mprint\u001B[39m(\u001B[38;5;124mf\u001B[39m\u001B[38;5;124m'\u001B[39m\u001B[38;5;124mPredicted: \u001B[39m\u001B[38;5;124m\"\u001B[39m\u001B[38;5;132;01m{\u001B[39;00mpredicted\u001B[38;5;132;01m}\u001B[39;00m\u001B[38;5;124m\"\u001B[39m\u001B[38;5;124m'\u001B[39m)\n",
      "\u001B[1;31mTypeError\u001B[0m: list indices must be integers or slices, not str"
     ]
    }
   ],
   "source": [
    "import onnxruntime as ort\n",
    "import numpy as np\n",
    "ort_sess = ort.InferenceSession(\"C:\\\\Users\\\\enego\\\\OneDrive\\\\Documents\\\\GitHub\\\\durhack22\\\\ML\\\\trainedNet.onnx\", providers=['CPUExecutionProvider'])\n",
    "finalOutput = ort_sess.run(None, {'Input': np.array([outputs.detach().numpy()])})\n",
    "predicted = finalOutput[\"predicted\"]\n",
    "# Print Result\n",
    "print(f'Predicted: \"{predicted}\"')"
   ],
   "metadata": {
    "collapsed": false,
    "pycharm": {
     "name": "#%%\n"
    }
   }
  },
  {
   "cell_type": "code",
   "execution_count": 40,
   "outputs": [
    {
     "data": {
      "text/plain": "<AddedDllDirectory('C:\\\\Users\\\\enego\\\\OneDrive\\\\Documents\\\\GitHub\\\\durhack22\\\\ML\\\\Python ONNX test\\\\')>"
     },
     "execution_count": 40,
     "metadata": {},
     "output_type": "execute_result"
    }
   ],
   "source": [
    "import os\n",
    "os.add_dll_directory(\"C:\\\\Users\\\\enego\\\\OneDrive\\\\Documents\\\\GitHub\\\\durhack22\\\\ML\\\\Python ONNX test\\\\\")"
   ],
   "metadata": {
    "collapsed": false,
    "pycharm": {
     "name": "#%%\n"
    }
   }
  },
  {
   "cell_type": "code",
   "execution_count": 25,
   "outputs": [
    {
     "data": {
      "text/plain": "array([[0.01388688, 0.06878126, 0.00255704, 0.02091588, 0.01787841,\n        0.01260351, 0.00590661, 0.00922127, 0.00865449, 0.01272339,\n        0.05170393, 0.00205334, 0.01966476, 0.00863052, 0.01811753,\n        0.00882685, 0.02292353, 0.01664216, 0.0380763 , 0.00668058,\n        0.01619877, 0.03927076, 0.01744776, 0.01092901, 0.00565139,\n        0.00209959, 0.0122943 , 0.02104653, 0.02942345, 0.01348498,\n        0.015287  , 0.02810356, 0.00522272, 0.03004137, 0.00238828,\n        0.00511698, 0.01590193, 0.01117884, 0.03221185, 0.04731362,\n        0.00915752, 0.0103011 , 0.0045236 , 0.00471684, 0.04564361,\n        0.03675842, 0.01288245, 0.01402922, 0.0146696 , 0.01061887,\n        0.0112119 , 0.02395386, 0.01738308, 0.02667835, 0.00752696,\n        0.02288371]], dtype=float32)"
     },
     "execution_count": 25,
     "metadata": {},
     "output_type": "execute_result"
    }
   ],
   "source": [
    "finalOutput[0]"
   ],
   "metadata": {
    "collapsed": false,
    "pycharm": {
     "name": "#%%\n"
    }
   }
  },
  {
   "cell_type": "code",
   "execution_count": null,
   "outputs": [],
   "source": [],
   "metadata": {
    "collapsed": false,
    "pycharm": {
     "name": "#%%\n"
    }
   }
  }
 ],
 "metadata": {
  "kernelspec": {
   "display_name": "Python 3",
   "language": "python",
   "name": "python3"
  },
  "language_info": {
   "codemirror_mode": {
    "name": "ipython",
    "version": 2
   },
   "file_extension": ".py",
   "mimetype": "text/x-python",
   "name": "python",
   "nbconvert_exporter": "python",
   "pygments_lexer": "ipython2",
   "version": "2.7.6"
  }
 },
 "nbformat": 4,
 "nbformat_minor": 0
}